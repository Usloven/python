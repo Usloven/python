{
 "cells": [
  {
   "cell_type": "markdown",
   "id": "78219044",
   "metadata": {},
   "source": [
    "**Условие 1:**\n",
    "\n",
    "Условие 1:\n",
    "Оформляйте ноутбук, используя эти советы:\n",
    "Номер задачи - заголовок 2\n",
    "Номер подзадачи - заголовок 3\n"
   ]
  },
  {
   "cell_type": "markdown",
   "id": "197cc793",
   "metadata": {},
   "source": [
    "***Задача 1***\n",
    "На складе лежат разные фрукты в разном количестве.\n",
    "Нужно написать функцию, которая на вход принимает любое количество названий фруктов и их количество, а возвращает общее количество фруктов на складе\n"
   ]
  },
  {
   "cell_type": "code",
   "execution_count": 40,
   "id": "6c13b85f",
   "metadata": {},
   "outputs": [],
   "source": [
    "def fruit_amount(**kwargs):\n",
    "    sum = 0\n",
    "    for i, k  in kwargs.items():\n",
    "        sum = sum + k\n",
    "    return sum\n",
    " \n",
    "   \n",
    "    \n",
    "    \n",
    "    "
   ]
  },
  {
   "cell_type": "code",
   "execution_count": 41,
   "id": "b315c7a9",
   "metadata": {},
   "outputs": [
    {
     "data": {
      "text/plain": [
       "120"
      ]
     },
     "execution_count": 41,
     "metadata": {},
     "output_type": "execute_result"
    }
   ],
   "source": [
    "fruit_amount(a = 20, b =  45, c = 55)"
   ]
  },
  {
   "cell_type": "markdown",
   "id": "962938cc",
   "metadata": {},
   "source": [
    "***Условие 3:***\n",
    "Дан список с затратами на рекламу. Но в данных есть ошибки, некоторые затраты имеют отрицательную величину. Удалите такие значения из списка и посчитайте суммарные затраты\n",
    "[100, 125, -90, 345, 655, -1, 0, 200]\n",
    "Используйте list comprehensions"
   ]
  },
  {
   "cell_type": "code",
   "execution_count": 43,
   "id": "5e5ea9c9",
   "metadata": {},
   "outputs": [
    {
     "data": {
      "text/plain": [
       "1516"
      ]
     },
     "execution_count": 43,
     "metadata": {},
     "output_type": "execute_result"
    }
   ],
   "source": [
    "costs  = [100, 125, -90, 345, 655, -1, 0, 200] \n",
    "costs = [x * -1 if x < 0 else x for x in costs]\n",
    "sum(costs)"
   ]
  },
  {
   "cell_type": "markdown",
   "id": "ab0ef7ad",
   "metadata": {},
   "source": [
    "В примере выше заменили - на +, но можно и удалить, как было задано:"
   ]
  },
  {
   "cell_type": "code",
   "execution_count": 44,
   "id": "7e61a9e1",
   "metadata": {},
   "outputs": [
    {
     "data": {
      "text/plain": [
       "1425"
      ]
     },
     "execution_count": 44,
     "metadata": {},
     "output_type": "execute_result"
    }
   ],
   "source": [
    "costs  = [100, 125, -90, 345, 655, -1, 0, 200] \n",
    "costs = [ x for x in costs if x > 0]\n",
    "sum(costs)"
   ]
  },
  {
   "cell_type": "markdown",
   "id": "1f429341",
   "metadata": {},
   "source": [
    "***Условие 4.1:***</br>\n",
    "Даны два списка. </br>\n",
    "Дата покупки</br>\n",
    "['2021-09-14', '2021-12-15', '2021-09-08', '2021-12-05', '2021-10-09', '2021-09-30', '2021-12-22', '2021-11-29', '2021-12-24', '2021-11-26', '2021-10-27', '2021-12-18', '2021-11-09', '2021-11-23', '2021-09-27', '2021-10-02', '2021-12-27', '2021-09-20', '2021-12-13', '2021-11-01', '2021-11-09', '2021-12-06', '2021-12-08', '2021-10-09', '2021-10-31', '2021-09-30', '2021-11-09', '2021-12-13', '2021-10-26', '2021-12-09']</br>\n",
    "Суммы покупок по датам</br>\n",
    "[1270, 8413, 9028, 3703, 5739, 4095, 295, 4944, 5723, 3701, 4471, 651, 7037, 4274, 6275, 4988, 6930, 2971, 6592, 2004, 2822, 519, 3406, 2732, 5015, 2008, 316, 6333, 5700, 2887]\n",
    "4.1 Найдите, какая выручка у компании в ноябре\n",
    "Используйте list comprehensions"
   ]
  },
  {
   "cell_type": "code",
   "execution_count": 55,
   "id": "44a63c6e",
   "metadata": {},
   "outputs": [
    {
     "data": {
      "text/plain": [
       "36034"
      ]
     },
     "execution_count": 55,
     "metadata": {},
     "output_type": "execute_result"
    }
   ],
   "source": [
    "sale_date = ['2021-09-14', '2021-12-15', '2021-09-08', '2021-12-05', '2021-10-09',\n",
    "             '2021-09-30', '2021-12-22', '2021-11-29', '2021-12-24', '2021-11-26',\n",
    "             '2021-10-27', '2021-12-18', '2021-11-09', '2021-11-23', '2021-09-27',\n",
    "             '2021-10-02', '2021-12-27', '2021-09-20', '2021-12-13', '2021-11-01',\n",
    "             '2021-11-09', '2021-12-06', '2021-12-08', '2021-10-09', '2021-10-31', \n",
    "             '2021-09-30', '2021-11-09', '2021-12-13', '2021-10-26', '2021-12-09']\n",
    "sale_date_sum = [1270, 8413, 9028, 3703, 5739, 4095, 295, 4944, 5723, 3701, 4471,\n",
    "                 651, 7037, 4274, 6275, 4988, 6930, 2971, 6592, 2004, 2822, 519, \n",
    "                 3406, 2732, 5015, 2008, 316, 6333, 5700, 2887]\n",
    "\n",
    "november_sum = [sale_date_sum[sale_date.index(x)]  for x in sale_date if \"-11-\" in x]\n",
    "sum(november_sum)"
   ]
  },
  {
   "cell_type": "markdown",
   "id": "5511f078",
   "metadata": {},
   "source": [
    "***4.2 Найдите выручку компании в зависимости от месяца***\n",
    "Для этого напишите функцию, которая на вход принимает список с датами и список с выручкой, а на выходе словарь, где ключи - это месяцы, а значения - это выручка.\n",
    "Используйте аннотирование типов."
   ]
  },
  {
   "cell_type": "code",
   "execution_count": 96,
   "id": "88bbb84d",
   "metadata": {},
   "outputs": [],
   "source": [
    "\n",
    "def dict_sales_generate(dates: list, sales: list) -> dict:\n",
    "    if len(dates) == len(sales):\n",
    "        dict_temp = {x:sales[dates.index(x)] for x in dates}\n",
    "        dict1 = {x.split(\"-\")[1]:[] for x in dates}\n",
    "        for x,y in dict_temp.items():\n",
    "            dict1[x.split(\"-\")[1]].append(y)\n",
    "        dict1 = {x: sum(y) for x,y in dict1.items()}\n",
    "        return dict1\n"
   ]
  },
  {
   "cell_type": "code",
   "execution_count": 97,
   "id": "960125f4",
   "metadata": {},
   "outputs": [
    {
     "data": {
      "text/plain": [
       "{'09': 23639, '12': 39119, '10': 25913, '11': 21960}"
      ]
     },
     "execution_count": 97,
     "metadata": {},
     "output_type": "execute_result"
    }
   ],
   "source": [
    "dict_sales_generate(sale_date, sale_date_sum)"
   ]
  },
  {
   "cell_type": "code",
   "execution_count": null,
   "id": "72640ebb",
   "metadata": {},
   "outputs": [],
   "source": []
  },
  {
   "cell_type": "code",
   "execution_count": null,
   "id": "c29466fe",
   "metadata": {},
   "outputs": [],
   "source": []
  }
 ],
 "metadata": {
  "kernelspec": {
   "display_name": "Python 3 (ipykernel)",
   "language": "python",
   "name": "python3"
  },
  "language_info": {
   "codemirror_mode": {
    "name": "ipython",
    "version": 3
   },
   "file_extension": ".py",
   "mimetype": "text/x-python",
   "name": "python",
   "nbconvert_exporter": "python",
   "pygments_lexer": "ipython3",
   "version": "3.9.13"
  }
 },
 "nbformat": 4,
 "nbformat_minor": 5
}
